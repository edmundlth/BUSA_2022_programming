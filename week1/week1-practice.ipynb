{
 "cells": [
  {
   "cell_type": "markdown",
   "id": "fd6ffaa6",
   "metadata": {},
   "source": [
    "---\n",
    "# Week 1 Practice questions\n",
    "---"
   ]
  },
  {
   "cell_type": "markdown",
   "id": "1238de36",
   "metadata": {},
   "source": [
    "## Question 1"
   ]
  },
  {
   "cell_type": "code",
   "execution_count": 3,
   "id": "4a5d65b0",
   "metadata": {},
   "outputs": [],
   "source": [
    "var = 0\n",
    "\n",
    "\n",
    "if 10 > var >= 15:\n",
    "# if var in (\"VIC\", \"NSW\", \"ACT\"):\n",
    "# if var[0] == \"A\" and var[-1] == \"e\":\n",
    "# if var:\n",
    "    print(\"Triggered!\")"
   ]
  },
  {
   "cell_type": "markdown",
   "id": "5f45d528",
   "metadata": {},
   "source": [
    "## Question 2\n",
    "What's wrong with this code? How can you fix it? "
   ]
  },
  {
   "cell_type": "code",
   "execution_count": 4,
   "id": "11fccad7",
   "metadata": {},
   "outputs": [
    {
     "name": "stdout",
     "output_type": "stream",
     "text": [
      "Enter a letter: a\n",
      "vowel\n"
     ]
    }
   ],
   "source": [
    "letter = input(\"Enter a letter: \")\n",
    "if letter == 'a' or 'e' or 'i' or 'o' or 'u':\n",
    "    print(\"vowel\")\n",
    "else:\n",
    "    print(\"consonant\")\n"
   ]
  },
  {
   "cell_type": "markdown",
   "id": "df75828f",
   "metadata": {},
   "source": [
    "## Question 3\n",
    "What's wrong with this code? How can you fix it? "
   ]
  },
  {
   "cell_type": "code",
   "execution_count": 5,
   "id": "1182df0c",
   "metadata": {},
   "outputs": [
    {
     "ename": "SyntaxError",
     "evalue": "invalid syntax (4188658811.py, line 2)",
     "output_type": "error",
     "traceback": [
      "\u001b[0;36m  Input \u001b[0;32mIn [5]\u001b[0;36m\u001b[0m\n\u001b[0;31m    if eggs = 5:\u001b[0m\n\u001b[0m            ^\u001b[0m\n\u001b[0;31mSyntaxError\u001b[0m\u001b[0;31m:\u001b[0m invalid syntax\n"
     ]
    }
   ],
   "source": [
    "eggs == 3\n",
    "if eggs = 5:\n",
    "    print(\"spam\")\n",
    "else:\n",
    "    print(\"not spam\")"
   ]
  },
  {
   "cell_type": "markdown",
   "id": "6f55698e",
   "metadata": {},
   "source": [
    "## Question 4\n",
    "Evaluate the following"
   ]
  },
  {
   "cell_type": "code",
   "execution_count": 6,
   "id": "947a4736",
   "metadata": {},
   "outputs": [
    {
     "ename": "IndexError",
     "evalue": "string index out of range",
     "output_type": "error",
     "traceback": [
      "\u001b[0;31m---------------------------------------------------------------------------\u001b[0m",
      "\u001b[0;31mIndexError\u001b[0m                                Traceback (most recent call last)",
      "Input \u001b[0;32mIn [6]\u001b[0m, in \u001b[0;36m<cell line: 5>\u001b[0;34m()\u001b[0m\n\u001b[1;32m      3\u001b[0m s[\u001b[38;5;241m-\u001b[39m\u001b[38;5;241m1\u001b[39m]\n\u001b[1;32m      4\u001b[0m s[\u001b[38;5;241m2\u001b[39m:\u001b[38;5;241m4\u001b[39m] \u001b[38;5;241m+\u001b[39m s[\u001b[38;5;241m6\u001b[39m:\u001b[38;5;241m8\u001b[39m]\n\u001b[0;32m----> 5\u001b[0m \u001b[43ms\u001b[49m\u001b[43m[\u001b[49m\u001b[38;5;241;43m25\u001b[39;49m\u001b[43m]\u001b[49m\n\u001b[1;32m      6\u001b[0m s[\u001b[38;5;241m25\u001b[39m:]\n\u001b[1;32m      7\u001b[0m s[\u001b[38;5;241m-\u001b[39m\u001b[38;5;241m7\u001b[39m:\u001b[38;5;241m-\u001b[39m\u001b[38;5;241m3\u001b[39m]\n",
      "\u001b[0;31mIndexError\u001b[0m: string index out of range"
     ]
    }
   ],
   "source": [
    "s = \"pythonisation\"\n",
    "s[1]\n",
    "s[-1]\n",
    "s[2:4] + s[6:8]\n",
    "s[25]\n",
    "s[25:]\n",
    "s[-7:-3]\n",
    "s[:-3]\n",
    "s[::2]\n",
    "s[::-1]"
   ]
  },
  {
   "cell_type": "markdown",
   "id": "fe7bbded",
   "metadata": {},
   "source": [
    "## Question 5\n",
    "Write a program which ask the user to write a sentence and checks whether the first letter is capitalised and the last letter is a full stop to decide whether it is a correct sentence."
   ]
  },
  {
   "cell_type": "code",
   "execution_count": 8,
   "id": "5a7e8c33",
   "metadata": {},
   "outputs": [],
   "source": [
    "def check(sentence):\n",
    "    pass"
   ]
  },
  {
   "cell_type": "markdown",
   "id": "1d51364d",
   "metadata": {},
   "source": [
    "## Question 6\n",
    "Write a function that takes a positive integer input `n` and prints the thirteen times tables from `1 * 13` until `n * 13`. "
   ]
  },
  {
   "cell_type": "code",
   "execution_count": null,
   "id": "8bbb3936",
   "metadata": {},
   "outputs": [],
   "source": [
    "def thirteen_table(num):\n",
    "    pass"
   ]
  },
  {
   "cell_type": "markdown",
   "id": "fbcd3689",
   "metadata": {},
   "source": [
    "## Question 7\n",
    "Write a function which converts a temperature between degrees Celsius and Fahrenheit. \n",
    "\n",
    "$$\n",
    "C = \\frac{F - 32}{1.8} \n",
    "$$\n",
    "\n",
    "$$\n",
    "F = C \\times 1.8 + 32\n",
    "$$"
   ]
  },
  {
   "cell_type": "code",
   "execution_count": 7,
   "id": "94799b13",
   "metadata": {},
   "outputs": [],
   "source": [
    "def convert_temp(degress, unit):\n",
    "    pass"
   ]
  },
  {
   "cell_type": "code",
   "execution_count": null,
   "id": "866b7192",
   "metadata": {},
   "outputs": [],
   "source": []
  }
 ],
 "metadata": {
  "kernelspec": {
   "display_name": "Python 3 (ipykernel)",
   "language": "python",
   "name": "python3"
  },
  "language_info": {
   "codemirror_mode": {
    "name": "ipython",
    "version": 3
   },
   "file_extension": ".py",
   "mimetype": "text/x-python",
   "name": "python",
   "nbconvert_exporter": "python",
   "pygments_lexer": "ipython3",
   "version": "3.9.12"
  }
 },
 "nbformat": 4,
 "nbformat_minor": 5
}
