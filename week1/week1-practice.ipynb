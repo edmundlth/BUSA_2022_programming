{
 "cells": [
  {
   "cell_type": "markdown",
   "id": "3081754d",
   "metadata": {},
   "source": [
    "---\n",
    "# Week 1 Practice questions\n",
    "---"
   ]
  },
  {
   "cell_type": "markdown",
   "id": "73824ead",
   "metadata": {},
   "source": [
    "## Question 1"
   ]
  },
  {
   "cell_type": "code",
   "execution_count": null,
   "id": "03719ac3",
   "metadata": {},
   "outputs": [],
   "source": [
    "def f():\n",
    "    return \n",
    "\n",
    "var = f()\n",
    "\n",
    "print(type(var))\n",
    "# if 10 > var >= 0:\n",
    "# if var in (\"VIC\", \"NSW\", \"ACT\"):\n",
    "# if var[0] == \"A\" and var[-1] == \"e\":\n",
    "if var:\n",
    "    print(\"Triggered!\")"
   ]
  },
  {
   "cell_type": "markdown",
   "id": "1ac7ecd8",
   "metadata": {},
   "source": [
    "## Question 2\n",
    "What's wrong with this code? How can you fix it? "
   ]
  },
  {
   "cell_type": "code",
   "execution_count": 7,
   "id": "b9071366",
   "metadata": {},
   "outputs": [
    {
     "data": {
      "text/plain": [
       "True"
      ]
     },
     "execution_count": 7,
     "metadata": {},
     "output_type": "execute_result"
    }
   ],
   "source": [
    "bool(\"e\")"
   ]
  },
  {
   "cell_type": "code",
   "execution_count": 58,
   "id": "9978a56c",
   "metadata": {},
   "outputs": [
    {
     "name": "stdout",
     "output_type": "stream",
     "text": [
      "b\n"
     ]
    }
   ],
   "source": [
    "print(False or \"b\")"
   ]
  },
  {
   "cell_type": "code",
   "execution_count": 6,
   "id": "90c7c1a4",
   "metadata": {},
   "outputs": [
    {
     "data": {
      "text/plain": [
       "'i'"
      ]
     },
     "execution_count": 6,
     "metadata": {},
     "output_type": "execute_result"
    }
   ],
   "source": [
    "letter = 0\n",
    "\n",
    "x = (letter == 'a' or 'e' or 'i' or 'o' or 'u')"
   ]
  },
  {
   "cell_type": "code",
   "execution_count": 15,
   "id": "bddf14da",
   "metadata": {},
   "outputs": [
    {
     "name": "stdout",
     "output_type": "stream",
     "text": [
      "Enter a letter: adfkadj\n",
      "Whats wrong with you\n"
     ]
    }
   ],
   "source": [
    "letter = input(\"Enter a letter: \")\n",
    "vowels = ('a', 'e', 'i', 'o', 'u')\n",
    "\n",
    "if letter.isalpha() and len(letter) == 1:\n",
    "    if letter.casefold() in vowels: \n",
    "        print(\"vowel\") \n",
    "    else:\n",
    "        print(\"consonant\")\n",
    "else:\n",
    "    print('Whats wrong with you')\n",
    "    \n"
   ]
  },
  {
   "cell_type": "markdown",
   "id": "fa5a4a98",
   "metadata": {},
   "source": [
    "## Question 3\n",
    "What's wrong with this code? How can you fix it? "
   ]
  },
  {
   "cell_type": "code",
   "execution_count": 19,
   "id": "4f7afe59",
   "metadata": {},
   "outputs": [
    {
     "name": "stdout",
     "output_type": "stream",
     "text": [
      "not spam\n"
     ]
    }
   ],
   "source": [
    "eggs = 3\n",
    "if eggs == 5:\n",
    "    print(\"spam\")\n",
    "else:\n",
    "    print(\"not spam\")"
   ]
  },
  {
   "cell_type": "markdown",
   "id": "fabb724b",
   "metadata": {},
   "source": [
    "## Question 4\n",
    "Evaluate the following"
   ]
  },
  {
   "cell_type": "code",
   "execution_count": 36,
   "id": "0f048164",
   "metadata": {},
   "outputs": [
    {
     "data": {
      "text/plain": [
       "'pythonisation'"
      ]
     },
     "execution_count": 36,
     "metadata": {},
     "output_type": "execute_result"
    }
   ],
   "source": [
    "s = \"pythonisation\"\n",
    "# s[1]\n",
    "# s[-1]\n",
    "# s[2:4] + s[6:8]\n",
    "# s[25]\n",
    "# s[25:]\n",
    "# s[-7:-3]\n",
    "# s[:-3]\n",
    "# s[::2]\n",
    "s[::-1][::-1]"
   ]
  },
  {
   "cell_type": "markdown",
   "id": "cccb1849",
   "metadata": {},
   "source": [
    "## Question 5\n",
    "Write a program which ask the user to write a sentence and checks whether the first letter is capitalised and the last letter is a full stop to decide whether it is a correct sentence."
   ]
  },
  {
   "cell_type": "code",
   "execution_count": 42,
   "id": "a91e887e",
   "metadata": {},
   "outputs": [],
   "source": [
    "def check(sentence):\n",
    "    if len(sentence) > 0:\n",
    "        return sentence[0] == sentence[0].upper() and sentence[-1] == '.'\n",
    "    else:\n",
    "        return False\n"
   ]
  },
  {
   "cell_type": "markdown",
   "id": "85e01be9",
   "metadata": {},
   "source": [
    "## Question 6\n",
    "Write a function that takes a positive integer input `n` and prints the thirteen times tables from `1 * 13` until `n * 13`. "
   ]
  },
  {
   "cell_type": "code",
   "execution_count": 46,
   "id": "24b80788",
   "metadata": {},
   "outputs": [
    {
     "name": "stdout",
     "output_type": "stream",
     "text": [
      "1 * 3 = 3\n",
      "2 * 3 = 6\n",
      "3 * 3 = 9\n"
     ]
    }
   ],
   "source": [
    "def thirteen_table(n):\n",
    "#     i = 1\n",
    "#     while i <= n:\n",
    "#         print(f\"{i} * {n} = {i * n}\")\n",
    "#         i += 1\n",
    "    for i in range(1, n + 1):\n",
    "        print(f\"{i} * {n} = {i * n}\")\n",
    "    return \n",
    "thirteen_table(3)"
   ]
  },
  {
   "cell_type": "markdown",
   "id": "ce70b757",
   "metadata": {},
   "source": [
    "## Question 7\n",
    "Write a function which converts a temperature between degrees Celsius and Fahrenheit. \n",
    "\n",
    "$$\n",
    "C = \\frac{F - 32}{1.8} \n",
    "$$\n",
    "\n",
    "$$\n",
    "F = C \\times 1.8 + 32\n",
    "$$"
   ]
  },
  {
   "cell_type": "code",
   "execution_count": 47,
   "id": "50ba6368",
   "metadata": {},
   "outputs": [],
   "source": [
    "def convert_temp(degree, unit):\n",
    "    if unit.lower() == 'f':\n",
    "        return (degree - 32) / 1.8\n",
    "    elif unit.lower() == 'c':\n",
    "        if degree < 273.13:\n",
    "            print(\"that is less than absolute zero.\")\n",
    "        return degree * 1.8 + 32\n",
    "    else:\n",
    "        print(\"Unit not accepted.\")\n",
    "        return "
   ]
  },
  {
   "cell_type": "code",
   "execution_count": 50,
   "id": "eb5096a3",
   "metadata": {},
   "outputs": [
    {
     "ename": "TypeError",
     "evalue": "'<' not supported between instances of 'int' and 'NoneType'",
     "output_type": "error",
     "traceback": [
      "\u001b[0;31m---------------------------------------------------------------------------\u001b[0m",
      "\u001b[0;31mTypeError\u001b[0m                                 Traceback (most recent call last)",
      "Input \u001b[0;32mIn [50]\u001b[0m, in \u001b[0;36m<cell line: 1>\u001b[0;34m()\u001b[0m\n\u001b[0;32m----> 1\u001b[0m \u001b[38;5;241m5\u001b[39m \u001b[38;5;241m<\u001b[39m \u001b[38;5;241m9\u001b[39m \u001b[38;5;241m<\u001b[39m \u001b[38;5;28;01mNone\u001b[39;00m\n",
      "\u001b[0;31mTypeError\u001b[0m: '<' not supported between instances of 'int' and 'NoneType'"
     ]
    }
   ],
   "source": [
    "5\n",
    "< 9 < None"
   ]
  },
  {
   "cell_type": "code",
   "execution_count": null,
   "id": "d68051d8",
   "metadata": {},
   "outputs": [],
   "source": []
  }
 ],
 "metadata": {
  "kernelspec": {
   "display_name": "Python 3 (ipykernel)",
   "language": "python",
   "name": "python3"
  },
  "language_info": {
   "codemirror_mode": {
    "name": "ipython",
    "version": 3
   },
   "file_extension": ".py",
   "mimetype": "text/x-python",
   "name": "python",
   "nbconvert_exporter": "python",
   "pygments_lexer": "ipython3",
   "version": "3.9.12"
  }
 },
 "nbformat": 4,
 "nbformat_minor": 5
}
