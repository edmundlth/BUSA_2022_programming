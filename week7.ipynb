{
 "cells": [
  {
   "cell_type": "markdown",
   "id": "4a712ce0",
   "metadata": {},
   "source": [
    "# Asymptotics (Big-O)\n",
    "Definition of $f(n) = O(g(n))$. Translation: \"$f(n)$ is of order at most $g(n)$\". \n",
    "\n",
    "\n",
    "Warm up: \n",
    "  - What is the \"order\" of \n",
    "    - $n - 10000000$\n",
    "    - $n / (n + 1)$ \n",
    "    - $n^2 / (n + 1)$ \n",
    "    - $n^a / (n^b + 1)$\n",
    "    \n",
    "  - \"Order hierarchy\"\n",
    "  $$.. << 1 << \\log \\log n << \\log n << n^{1 - k} << n << n^{1 + k} << 2^n << n! << n^n << \\dots$$\n",
    "\n",
    "1. Prove/Show that if $f(n) = O(1)$ and $g(n) = O(1)$ then $f(n) + g(n) = O(1)$.\n",
    "2. Prove/Show that if $f(n) = O(1)$ and it is repeated $n$ times the total time is $O(n)$.\n",
    "3. Prove/Show that if $f(n) = O(n)$ it is also $O(n^2)$. (A graphical demonstration will suffice for those not into algebra.)\n",
    "4. Prove/Show that if $f(n) = O(1)$ and $g(n) = O(n)$ then $f(n)+g(n) = O(n)$. \n",
    "5. Challenge: more generally, prove $O(f(n)) + O(g(n)) = O(max(f(n), g(n)))$\n",
    "\n",
    "\n",
    "Some rule-of-thumb: \n",
    " - Constants don't matter. \n",
    " - Lower order terms don't matter. (\"term\" = part of a sum). \n",
    " - "
   ]
  },
  {
   "cell_type": "code",
   "execution_count": 173,
   "id": "cd1ac030",
   "metadata": {},
   "outputs": [
    {
     "data": {
      "text/plain": [
       "[1, 2, 3, 4]"
      ]
     },
     "execution_count": 173,
     "metadata": {},
     "output_type": "execute_result"
    }
   ],
   "source": [
    "import random\n",
    "def check_sorted(x):\n",
    "    for i in range(len(x) -1):\n",
    "        if x[i] > x[i + 1]:\n",
    "            return False\n",
    "    return True\n",
    "\n",
    "def mysort(x):\n",
    "    while not check_sorted(x):\n",
    "        random.shuffle(x)\n",
    "    return x\n",
    "\n",
    "\n",
    "x = [2, 1, 4, 3]\n",
    "mysort(x)\n",
    "    \n",
    "    "
   ]
  },
  {
   "cell_type": "markdown",
   "id": "873c385c",
   "metadata": {},
   "source": [
    "# Algorithm runtime complexity\n",
    "\n",
    "Find the \n",
    " 1. Best\n",
    " 2. Average\n",
    " 3. Worse\n",
    "case runtime complexity of the following programs as a function of `n`. "
   ]
  },
  {
   "cell_type": "code",
   "execution_count": null,
   "id": "7557c027",
   "metadata": {},
   "outputs": [],
   "source": [
    "n = 5\n",
    "\n",
    "for i in range(n): # repeat n times\n",
    "    print(i)  # Figure out run time needed for body -> O(1)\n",
    "# ans = number of time for loop runs x run time for body = n x O(1) = O(n)"
   ]
  },
  {
   "cell_type": "code",
   "execution_count": null,
   "id": "3eb70e8e",
   "metadata": {},
   "outputs": [],
   "source": [
    "n = 10\n",
    "for i in range(n):\n",
    "    # body of outer loop is also repeated n times\n",
    "    \n",
    "    for j in range(n): # inner loop runs n times, so inner loop is O(n)\n",
    "        print(i) # This is O(1) \n",
    "# Total run time = n * (n * O(1)) = n * O(n) = O(n^2)"
   ]
  },
  {
   "cell_type": "code",
   "execution_count": null,
   "id": "c469770d",
   "metadata": {},
   "outputs": [],
   "source": [
    "n = 20\n",
    "\n",
    "\n",
    "\n",
    "a = [1 for i in range(n)] # O(n)\n",
    "for i in a: # repeat n times\n",
    "    print(i) # O(1)\n",
    "    \n",
    "# total = O(n) + n * O(1) = O(n) + O(n) = O(n)"
   ]
  },
  {
   "cell_type": "code",
   "execution_count": 176,
   "id": "5fe5d77d",
   "metadata": {},
   "outputs": [
    {
     "name": "stdout",
     "output_type": "stream",
     "text": [
      "0\n",
      "1\n"
     ]
    }
   ],
   "source": [
    "n = 2\n",
    "\n",
    "if n % 2 == 0: # O(1)\n",
    "    for j in range(n): # repeat n times\n",
    "        print(j) # O(1)\n",
    "\n",
    "        \n",
    "# If n even, time = O(n)\n",
    "# If n odd, time = O(1)\n",
    "\n",
    "# Best, average, worst\n",
    "# O(1),         , O(n)\n",
    "# Extension: can the average case be different? "
   ]
  },
  {
   "cell_type": "code",
   "execution_count": 161,
   "id": "0ffc8c9e",
   "metadata": {},
   "outputs": [],
   "source": [
    "import random\n",
    "n = 30\n",
    "if random.randint(1, 10) % 2 == 0:\n",
    "    for j in range(n):\n",
    "        print(i)\n",
    "# Best = O(1)\n",
    "# Average = 1/2 * O(1) + 1/2 * O(n) = O(1) + O(n) = O(n)\n",
    "# Worst = O(n)"
   ]
  },
  {
   "cell_type": "code",
   "execution_count": 166,
   "id": "a616ec49",
   "metadata": {},
   "outputs": [
    {
     "data": {
      "text/plain": [
       "[-1, 1, 4, 10]"
      ]
     },
     "execution_count": 166,
     "metadata": {},
     "output_type": "execute_result"
    }
   ],
   "source": [
    "def sn(s): # let n = len(s)\n",
    "    for i in range(1, len(s)): # repeat n times\n",
    "        val = s[i]\n",
    "        j = i - 1\n",
    "        while (j >= 0) and (s[j] > val): # repeat i times\n",
    "            s[j+1] = s[j]\n",
    "            j = j - 1\n",
    "        s[j+1] = val\n",
    "    return\n",
    "        \n",
    "x = [1, 4, -1, 10] \n",
    "sn(x)\n",
    "x\n",
    "\n",
    "\n",
    "# Extension: \n",
    "#  - Bogosort\n",
    "#  - What is the time complexity of merge-sort? \n",
    "#  - When would one prefer merge-sort to insertion sort? \n"
   ]
  },
  {
   "cell_type": "markdown",
   "id": "e62d3058",
   "metadata": {},
   "source": [
    "---\n",
    "# Extension Questions\n",
    "---"
   ]
  },
  {
   "cell_type": "markdown",
   "id": "66bd91e9",
   "metadata": {},
   "source": [
    "### (very challenging)\n",
    "Find the time complexity for each of the following algorithms as a function of the length of the input list `x`. "
   ]
  },
  {
   "cell_type": "code",
   "execution_count": 153,
   "id": "8a4656a4",
   "metadata": {},
   "outputs": [],
   "source": [
    "def binsearch(x, elem):\n",
    "    \"\"\"\n",
    "    Given a sorted non-empty list x, and an element that is x[0] <= elem <= x[-1], \n",
    "    search for the first index i such that elem >= x[i]. \n",
    "    \"\"\"\n",
    "    low = 0\n",
    "    high = len(x) -1\n",
    "    while low < high:\n",
    "        mid1 = (low + high) // 2\n",
    "        mid2 = mid1 + 1\n",
    "        if elem > x[mid2]:\n",
    "            low = mid2\n",
    "        elif elem == x[mid2]:\n",
    "            return mid2\n",
    "        else: # case: elem < x[mid2]\n",
    "            if elem >= x[mid1]:\n",
    "                return mid1\n",
    "            else: # case: elem < x[mid1]\n",
    "                high = mid1\n",
    "    return low\n",
    "\n",
    "\n",
    "def sort(x):\n",
    "    if len(x) <= 1:\n",
    "        return x\n",
    "    rest = sort(x[1:])\n",
    "    print(x[0], rest)\n",
    "    i = 0\n",
    "    while i < len(rest) and rest[i] < x[0]:\n",
    "        i += 1\n",
    "    return rest[:i] + [x[0]] + rest[i:]\n",
    "\n",
    "\n",
    "def sort2(x):\n",
    "    if len(x) <= 1:\n",
    "        return x\n",
    "    rest = sort2(x[1:])\n",
    "    if x[0] < rest[0]:\n",
    "        return [x[0]] + rest\n",
    "    elif x[0] > rest[-1]:\n",
    "        return rest + [x[0]]\n",
    "    else:\n",
    "        index = binsearch(rest, x[0]) + 1\n",
    "        return rest[:index] + [x[0]] + rest[index:]\n"
   ]
  },
  {
   "cell_type": "code",
   "execution_count": null,
   "id": "82208d59",
   "metadata": {},
   "outputs": [],
   "source": []
  },
  {
   "cell_type": "code",
   "execution_count": 171,
   "id": "d5c6e0a5",
   "metadata": {},
   "outputs": [],
   "source": [
    "def rotate(x):\n",
    "    num_rows = len(x[0])\n",
    "    num_cols = len(x)\n",
    "    result = []\n",
    "    for i in range(num_rows):\n",
    "        new_row = []\n",
    "        for j in range(num_cols):\n",
    "            new_row.append(x[j][-(i + 1)])\n",
    "        result.append(new_row)\n",
    "    return result\n",
    "\n",
    "\n",
    "\n",
    "def test_rotate():\n",
    "    x = [\n",
    "    [0, 1],\n",
    "    [2, 3], \n",
    "    [4, 5]\n",
    "    ]\n",
    "    y = [\n",
    "    [1, 3, 5], \n",
    "    [0, 2, 4]\n",
    "    ]\n",
    "    return rotate(x) == y\n"
   ]
  },
  {
   "cell_type": "code",
   "execution_count": null,
   "id": "7a8ce970",
   "metadata": {},
   "outputs": [],
   "source": []
  }
 ],
 "metadata": {
  "kernelspec": {
   "display_name": "Python 3 (ipykernel)",
   "language": "python",
   "name": "python3"
  },
  "language_info": {
   "codemirror_mode": {
    "name": "ipython",
    "version": 3
   },
   "file_extension": ".py",
   "mimetype": "text/x-python",
   "name": "python",
   "nbconvert_exporter": "python",
   "pygments_lexer": "ipython3",
   "version": "3.9.12"
  }
 },
 "nbformat": 4,
 "nbformat_minor": 5
}
